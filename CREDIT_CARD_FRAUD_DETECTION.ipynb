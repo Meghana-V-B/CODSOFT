{
  "nbformat": 4,
  "nbformat_minor": 0,
  "metadata": {
    "colab": {
      "provenance": [],
      "authorship_tag": "ABX9TyNQLpRffKw3jA08yeXhAMwI",
      "include_colab_link": true
    },
    "kernelspec": {
      "name": "python3",
      "display_name": "Python 3"
    },
    "language_info": {
      "name": "python"
    }
  },
  "cells": [
    {
      "cell_type": "markdown",
      "metadata": {
        "id": "view-in-github",
        "colab_type": "text"
      },
      "source": [
        "<a href=\"https://colab.research.google.com/github/Meghana-V-B/CODSOFT/blob/main/CREDIT_CARD_FRAUD_DETECTION.ipynb\" target=\"_parent\"><img src=\"https://colab.research.google.com/assets/colab-badge.svg\" alt=\"Open In Colab\"/></a>"
      ]
    },
    {
      "cell_type": "code",
      "source": [
        "import kagglehub\n",
        "\n",
        "# Download latest version\n",
        "path = kagglehub.dataset_download(\"kartik2112/fraud-detection\")\n",
        "\n",
        "print(\"Path to dataset files:\", path)"
      ],
      "metadata": {
        "colab": {
          "base_uri": "https://localhost:8080/"
        },
        "id": "GrunUHoN4jfq",
        "outputId": "8f0db3bb-3fc1-4d79-f637-ac8487b393f1"
      },
      "execution_count": null,
      "outputs": [
        {
          "output_type": "stream",
          "name": "stdout",
          "text": [
            "Downloading from https://www.kaggle.com/api/v1/datasets/download/kartik2112/fraud-detection?dataset_version_number=1...\n"
          ]
        },
        {
          "output_type": "stream",
          "name": "stderr",
          "text": [
            "100%|██████████| 202M/202M [00:01<00:00, 161MB/s]"
          ]
        },
        {
          "output_type": "stream",
          "name": "stdout",
          "text": [
            "Extracting files...\n"
          ]
        },
        {
          "output_type": "stream",
          "name": "stderr",
          "text": [
            "\n"
          ]
        },
        {
          "output_type": "stream",
          "name": "stdout",
          "text": [
            "Path to dataset files: /root/.cache/kagglehub/datasets/kartik2112/fraud-detection/versions/1\n"
          ]
        }
      ]
    },
    {
      "cell_type": "code",
      "source": [
        "import os\n",
        "import pandas as pd\n",
        "\n",
        "# Path returned by kagglehub\n",
        "dataset_folder = \"/root/.cache/kagglehub/datasets/kartik2112/fraud-detection/versions/1\"\n",
        "# Paths to train and test CSVs\n",
        "train_file = os.path.join(dataset_folder, \"fraudTrain.csv\")\n",
        "test_file = os.path.join(dataset_folder, \"fraudTest.csv\")\n",
        "\n",
        "# Load train and test datasets\n",
        "train_data = pd.read_csv(train_file)\n",
        "test_data = pd.read_csv(test_file)\n",
        "\n",
        "# Inspect\n",
        "print(\"Train shape:\", train_data.shape)\n",
        "print(\"Test shape:\", test_data.shape)\n",
        "print(train_data.head())\n",
        "print(train_data['is_fraud'].value_counts())  # target column\n"
      ],
      "metadata": {
        "colab": {
          "base_uri": "https://localhost:8080/"
        },
        "id": "XxDI065N45Hl",
        "outputId": "e459d6b3-7fb8-4e83-82f1-41a750eeca30"
      },
      "execution_count": null,
      "outputs": [
        {
          "output_type": "stream",
          "name": "stdout",
          "text": [
            "Train shape: (1296675, 23)\n",
            "Test shape: (555719, 23)\n",
            "   Unnamed: 0 trans_date_trans_time            cc_num  \\\n",
            "0           0   2019-01-01 00:00:18  2703186189652095   \n",
            "1           1   2019-01-01 00:00:44      630423337322   \n",
            "2           2   2019-01-01 00:00:51    38859492057661   \n",
            "3           3   2019-01-01 00:01:16  3534093764340240   \n",
            "4           4   2019-01-01 00:03:06   375534208663984   \n",
            "\n",
            "                             merchant       category     amt      first  \\\n",
            "0          fraud_Rippin, Kub and Mann       misc_net    4.97   Jennifer   \n",
            "1     fraud_Heller, Gutmann and Zieme    grocery_pos  107.23  Stephanie   \n",
            "2                fraud_Lind-Buckridge  entertainment  220.11     Edward   \n",
            "3  fraud_Kutch, Hermiston and Farrell  gas_transport   45.00     Jeremy   \n",
            "4                 fraud_Keeling-Crist       misc_pos   41.96      Tyler   \n",
            "\n",
            "      last gender                        street  ...      lat      long  \\\n",
            "0    Banks      F                561 Perry Cove  ...  36.0788  -81.1781   \n",
            "1     Gill      F  43039 Riley Greens Suite 393  ...  48.8878 -118.2105   \n",
            "2  Sanchez      M      594 White Dale Suite 530  ...  42.1808 -112.2620   \n",
            "3    White      M   9443 Cynthia Court Apt. 038  ...  46.2306 -112.1138   \n",
            "4   Garcia      M              408 Bradley Rest  ...  38.4207  -79.4629   \n",
            "\n",
            "   city_pop                                job         dob  \\\n",
            "0      3495          Psychologist, counselling  1988-03-09   \n",
            "1       149  Special educational needs teacher  1978-06-21   \n",
            "2      4154        Nature conservation officer  1962-01-19   \n",
            "3      1939                    Patent attorney  1967-01-12   \n",
            "4        99     Dance movement psychotherapist  1986-03-28   \n",
            "\n",
            "                          trans_num   unix_time  merch_lat  merch_long  \\\n",
            "0  0b242abb623afc578575680df30655b9  1325376018  36.011293  -82.048315   \n",
            "1  1f76529f8574734946361c461b024d99  1325376044  49.159047 -118.186462   \n",
            "2  a1a22d70485983eac12b5b88dad1cf95  1325376051  43.150704 -112.154481   \n",
            "3  6b849c168bdad6f867558c3793159a81  1325376076  47.034331 -112.561071   \n",
            "4  a41d7549acf90789359a9aa5346dcb46  1325376186  38.674999  -78.632459   \n",
            "\n",
            "   is_fraud  \n",
            "0         0  \n",
            "1         0  \n",
            "2         0  \n",
            "3         0  \n",
            "4         0  \n",
            "\n",
            "[5 rows x 23 columns]\n",
            "is_fraud\n",
            "0    1289169\n",
            "1       7506\n",
            "Name: count, dtype: int64\n"
          ]
        }
      ]
    },
    {
      "cell_type": "code",
      "source": [
        "\n",
        "drop_cols = ['Unnamed: 0', 'trans_num', 'cc_num', 'merchant', 'first', 'last',\n",
        "             'street', 'job', 'dob', 'trans_date_trans_time']\n",
        "\n",
        "# Features (X) and target (y)\n",
        "X = train_data.drop(columns=drop_cols + ['is_fraud'])\n",
        "y = train_data['is_fraud']\n"
      ],
      "metadata": {
        "id": "E4QF4PZQ7IOn"
      },
      "execution_count": null,
      "outputs": []
    },
    {
      "cell_type": "code",
      "source": [
        "categorical_cols = X.select_dtypes(include=['object']).columns\n",
        "print(\"Categorical columns:\", categorical_cols)\n"
      ],
      "metadata": {
        "colab": {
          "base_uri": "https://localhost:8080/"
        },
        "id": "zsGXdfLt7pox",
        "outputId": "29cda58e-a4ac-430f-fc09-19eb50e9bc6d"
      },
      "execution_count": null,
      "outputs": [
        {
          "output_type": "stream",
          "name": "stdout",
          "text": [
            "Categorical columns: Index(['city', 'state'], dtype='object')\n"
          ]
        }
      ]
    },
    {
      "cell_type": "code",
      "source": [
        "# Drop high-cardinality categorical columns\n",
        "X = X.drop(columns=['city', 'state'])\n"
      ],
      "metadata": {
        "id": "4YzphnxC70WH"
      },
      "execution_count": null,
      "outputs": []
    },
    {
      "cell_type": "code",
      "source": [
        "from sklearn.preprocessing import StandardScaler\n",
        "\n",
        "scaler = StandardScaler()\n",
        "X_scaled = scaler.fit_transform(X)\n"
      ],
      "metadata": {
        "id": "PsTtCk9j74j_"
      },
      "execution_count": null,
      "outputs": []
    },
    {
      "cell_type": "code",
      "source": [
        "from sklearn.model_selection import train_test_split\n",
        "\n",
        "X_train, X_val, y_train, y_val = train_test_split(\n",
        "    X_scaled, y, test_size=0.2, random_state=42, stratify=y\n",
        ")\n"
      ],
      "metadata": {
        "id": "hns4h4Zg8I_h"
      },
      "execution_count": null,
      "outputs": []
    },
    {
      "cell_type": "code",
      "source": [
        "from sklearn.ensemble import HistGradientBoostingClassifier\n",
        "from sklearn.metrics import classification_report, roc_auc_score\n",
        "\n",
        "# Initialize the model\n",
        "hgb_model = HistGradientBoostingClassifier(max_iter=100, max_depth=10, learning_rate=0.1, random_state=42)\n",
        "\n",
        "# Train the model\n",
        "print(\"Training HistGradientBoostingClassifier...\")\n",
        "hgb_model.fit(X_train, y_train)\n",
        "\n",
        "# Predict on validation set\n",
        "y_val_pred = hgb_model.predict(X_val)\n",
        "y_val_proba = hgb_model.predict_proba(X_val)[:,1]\n",
        "\n",
        "# Evaluate\n",
        "print(\"Classification Report:\")\n",
        "print(classification_report(y_val, y_val_pred))\n",
        "roc_score = roc_auc_score(y_val, y_val_proba)\n",
        "print(f\"ROC-AUC Score: {roc_score:.4f}\")\n"
      ],
      "metadata": {
        "colab": {
          "base_uri": "https://localhost:8080/"
        },
        "id": "J1yK6ehn9PPA",
        "outputId": "12f9a7be-b10a-4d8f-d927-dff885c5ab10"
      },
      "execution_count": null,
      "outputs": [
        {
          "output_type": "stream",
          "name": "stdout",
          "text": [
            "Training HistGradientBoostingClassifier...\n",
            "Classification Report:\n",
            "              precision    recall  f1-score   support\n",
            "\n",
            "           0       1.00      1.00      1.00    257834\n",
            "           1       0.61      0.56      0.58      1501\n",
            "\n",
            "    accuracy                           1.00    259335\n",
            "   macro avg       0.80      0.78      0.79    259335\n",
            "weighted avg       1.00      1.00      1.00    259335\n",
            "\n",
            "ROC-AUC Score: 0.8855\n"
          ]
        }
      ]
    },
    {
      "cell_type": "code",
      "source": [
        "# Drop irrelevant columns (same as training)\n",
        "X_test = test_data.drop(columns=drop_cols + ['is_fraud'])\n",
        "y_test = test_data['is_fraud']\n",
        "\n",
        "# One-hot encode categorical variables (same as training)\n",
        "X_test = pd.get_dummies(X_test, columns=['category', 'gender'], drop_first=True)\n",
        "\n",
        "# Align test set columns with training set columns\n",
        "X_test = X_test.reindex(columns=X.columns, fill_value=0)\n",
        "\n",
        "# Scale numeric features using the same scaler\n",
        "X_test_scaled = scaler.transform(X_test)\n"
      ],
      "metadata": {
        "id": "8VgqxEEd9TVR"
      },
      "execution_count": null,
      "outputs": []
    },
    {
      "cell_type": "code",
      "source": [
        "# Predict on test set\n",
        "y_test_pred = hgb_model.predict(X_test_scaled)\n",
        "y_test_proba = hgb_model.predict_proba(X_test_scaled)[:,1]\n",
        "\n",
        "# Evaluate\n",
        "from sklearn.metrics import classification_report, roc_auc_score\n",
        "\n",
        "print(\"Classification Report on Test Set:\")\n",
        "print(classification_report(y_test, y_test_pred))\n",
        "\n",
        "roc_score = roc_auc_score(y_test, y_test_proba)\n",
        "print(f\"ROC-AUC Score on Test Set: {roc_score:.4f}\")\n"
      ],
      "metadata": {
        "colab": {
          "base_uri": "https://localhost:8080/"
        },
        "id": "a2wlBnQO9eyh",
        "outputId": "631b9273-99d4-4bf5-97e4-3b2055c1ca95"
      },
      "execution_count": null,
      "outputs": [
        {
          "output_type": "stream",
          "name": "stdout",
          "text": [
            "Classification Report on Test Set:\n",
            "              precision    recall  f1-score   support\n",
            "\n",
            "           0       1.00      1.00      1.00    553574\n",
            "           1       0.47      0.51      0.49      2145\n",
            "\n",
            "    accuracy                           1.00    555719\n",
            "   macro avg       0.74      0.75      0.74    555719\n",
            "weighted avg       1.00      1.00      1.00    555719\n",
            "\n",
            "ROC-AUC Score on Test Set: 0.8737\n"
          ]
        }
      ]
    }
  ]
}